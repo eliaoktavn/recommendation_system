{
  "cells": [
    {
      "cell_type": "markdown",
      "metadata": {},
      "source": [
        "# Final Project: Modelling"
      ]
    },
    {
      "cell_type": "markdown",
      "metadata": {},
      "source": [
        "Pada tahun 2022, pendapatan dari pasar kecantikan mencapai sekitar \\\\$430 miliar. Saat ini, industri kecantikan menunjukkan tren pertumbuhan positif di semua kategori. Dengan pemulihan setelah pandemi, diprediksikan bahwa pendapatan pasar kecantikan akan mencapai sekitar \\\\$580 miliar di tahun 2027, dengan pertumbuhan tahunan yang diestimasi sebesar 6%.\n",
        "Dengan potensi tersebut, kami tertarik untuk membuat sistem rekomendasi produk pada *beauty commerce* berdasarkan filterisasi berbasis konten guna meningkatkan penjualan melalui rekomendasi produk yang relevan dan sesuai.\n",
        "\n",
        "\n",
        "**Pickr** adalah sebuah fitur rekomendasi terpersonalisasi menggunakan teknologi Machine Learning (ML), untuk membantu pengguna menemukan produk yang sesuai dan relevan dengan preferensi dan kata kunci terkait produk yang diinginkan."
      ]
    },
    {
      "cell_type": "markdown",
      "metadata": {},
      "source": [
        "Dataset: [Link](https://www.kaggle.com/datasets/raghadalharbi/all-products-available-on-sephora-website)  \n",
        "Deploy: [Link](https://pickrapp.streamlit.app/)"
      ]
    },
    {
      "cell_type": "markdown",
      "metadata": {},
      "source": [
        "Anggota tim:\n",
        "- Destriana Ramadani (Data Engineer)\n",
        "- Elia Oktaviani (Data Analyst)\n",
        "- Gita Pramoedya Sastri (Data Scientist)\n",
        "- Wilona Natalie Elvaretta (Data Scientist)\n"
      ]
    },
    {
      "cell_type": "markdown",
      "metadata": {},
      "source": [
        "---\n",
        "## Import Libraries"
      ]
    },
    {
      "cell_type": "markdown",
      "metadata": {},
      "source": [
        "Sebelum mejalankan program, library yang dibutuhkan untuk modelling akan di-import terlebih dahulu."
      ]
    },
    {
      "cell_type": "code",
      "execution_count": 1,
      "metadata": {},
      "outputs": [],
      "source": [
        "# General use\n",
        "import pandas as pd\n",
        "import warnings\n",
        "warnings.filterwarnings('ignore')\n",
        "\n",
        "# Modelling\n",
        "from sklearn.feature_extraction.text import TfidfVectorizer\n",
        "from sklearn.metrics.pairwise import cosine_similarity\n",
        "from textblob import TextBlob\n",
        "from bing_image_urls import bing_image_urls\n",
        "from urllib.request import urlopen\n",
        "from PIL import Image\n",
        "from io import BytesIO\n",
        "import requests\n",
        "\n",
        "# Model saving\n",
        "import pickle"
      ]
    },
    {
      "cell_type": "markdown",
      "metadata": {
        "id": "tjEPlkSk_AgY"
      },
      "source": [
        "## Cleaned Data Loading"
      ]
    },
    {
      "cell_type": "markdown",
      "metadata": {},
      "source": [
        "Data yang sudah melalui proses cleaning akan di-load ke dalam notebook. Sebagai recap, cleaning yang dilakukan sebelumnya mencakup:\n",
        "- Menghapus extra white space dan new line\n",
        "- Mengubah semua kata ke dalam huruf cetak kecil\n",
        "- Menggabungkan beberapa kolom\n",
        "- Tokenisasi kata\n",
        "- Menghapus stopwords\n",
        "- Lematisasi kata\n",
        "\n",
        "Data akan disimpan ke dalam dataframe `df`."
      ]
    },
    {
      "cell_type": "code",
      "execution_count": 2,
      "metadata": {
        "colab": {
          "base_uri": "https://localhost:8080/",
          "height": 689
        },
        "id": "Wz2YGcHU_Vm2",
        "outputId": "315b4acf-effe-4dfa-8c96-ed5ad86fd9f0"
      },
      "outputs": [
        {
          "data": {
            "text/html": [
              "<div>\n",
              "<style scoped>\n",
              "    .dataframe tbody tr th:only-of-type {\n",
              "        vertical-align: middle;\n",
              "    }\n",
              "\n",
              "    .dataframe tbody tr th {\n",
              "        vertical-align: top;\n",
              "    }\n",
              "\n",
              "    .dataframe thead th {\n",
              "        text-align: right;\n",
              "    }\n",
              "</style>\n",
              "<table border=\"1\" class=\"dataframe\">\n",
              "  <thead>\n",
              "    <tr style=\"text-align: right;\">\n",
              "      <th></th>\n",
              "      <th>id</th>\n",
              "      <th>brand</th>\n",
              "      <th>category</th>\n",
              "      <th>name</th>\n",
              "      <th>size</th>\n",
              "      <th>rating</th>\n",
              "      <th>number_of_reviews</th>\n",
              "      <th>love</th>\n",
              "      <th>price</th>\n",
              "      <th>value_price</th>\n",
              "      <th>...</th>\n",
              "      <th>details</th>\n",
              "      <th>how_to_use</th>\n",
              "      <th>ingredients</th>\n",
              "      <th>online_only</th>\n",
              "      <th>exclusive</th>\n",
              "      <th>limited_edition</th>\n",
              "      <th>limited_time_offer</th>\n",
              "      <th>new_category</th>\n",
              "      <th>brand_details_category</th>\n",
              "      <th>preprocessing_brand_details_category</th>\n",
              "    </tr>\n",
              "  </thead>\n",
              "  <tbody>\n",
              "    <tr>\n",
              "      <th>0</th>\n",
              "      <td>2218774</td>\n",
              "      <td>Acqua Di Parma</td>\n",
              "      <td>Fragrance</td>\n",
              "      <td>Blu Mediterraneo MINIATURE Set</td>\n",
              "      <td>5 x 0.16oz/5mL</td>\n",
              "      <td>4.0</td>\n",
              "      <td>4</td>\n",
              "      <td>3002</td>\n",
              "      <td>66.0</td>\n",
              "      <td>75.0</td>\n",
              "      <td>...</td>\n",
              "      <td>This enchanting set comes in a specially handc...</td>\n",
              "      <td>Suggested Usage:-Fragrance is intensified by t...</td>\n",
              "      <td>Arancia di Capri Eau de Toilette: Alcohol Dena...</td>\n",
              "      <td>1</td>\n",
              "      <td>0</td>\n",
              "      <td>0</td>\n",
              "      <td>0</td>\n",
              "      <td>mini</td>\n",
              "      <td>acqua di parma this enchanting set comes in a ...</td>\n",
              "      <td>acqua di parma enchanting set comes specially ...</td>\n",
              "    </tr>\n",
              "    <tr>\n",
              "      <th>1</th>\n",
              "      <td>2044816</td>\n",
              "      <td>Acqua Di Parma</td>\n",
              "      <td>Cologne</td>\n",
              "      <td>Colonia</td>\n",
              "      <td>0.7 oz/ 20 mL</td>\n",
              "      <td>4.5</td>\n",
              "      <td>76</td>\n",
              "      <td>2700</td>\n",
              "      <td>66.0</td>\n",
              "      <td>66.0</td>\n",
              "      <td>...</td>\n",
              "      <td>An elegant timeless scent filled with a fresh-...</td>\n",
              "      <td>no instructions</td>\n",
              "      <td>unknown</td>\n",
              "      <td>1</td>\n",
              "      <td>0</td>\n",
              "      <td>0</td>\n",
              "      <td>0</td>\n",
              "      <td>fragrance</td>\n",
              "      <td>acqua di parma an elegant timeless scent fille...</td>\n",
              "      <td>acqua di parma elegant timeless scent filled f...</td>\n",
              "    </tr>\n",
              "    <tr>\n",
              "      <th>2</th>\n",
              "      <td>1417567</td>\n",
              "      <td>Acqua Di Parma</td>\n",
              "      <td>Perfume</td>\n",
              "      <td>Arancia di Capri</td>\n",
              "      <td>5 oz/ 148 mL</td>\n",
              "      <td>4.5</td>\n",
              "      <td>26</td>\n",
              "      <td>2600</td>\n",
              "      <td>180.0</td>\n",
              "      <td>180.0</td>\n",
              "      <td>...</td>\n",
              "      <td>Fragrance Family: Fresh Scent Type: Fresh Citr...</td>\n",
              "      <td>no instructions</td>\n",
              "      <td>Alcohol Denat.- Water- Fragrance- Limonene- Li...</td>\n",
              "      <td>1</td>\n",
              "      <td>0</td>\n",
              "      <td>0</td>\n",
              "      <td>0</td>\n",
              "      <td>fragrance</td>\n",
              "      <td>acqua di parma fragrance family: fresh scent t...</td>\n",
              "      <td>acqua di parma fragrance family fresh scent ty...</td>\n",
              "    </tr>\n",
              "    <tr>\n",
              "      <th>3</th>\n",
              "      <td>1417617</td>\n",
              "      <td>Acqua Di Parma</td>\n",
              "      <td>Perfume</td>\n",
              "      <td>Mirto di Panarea</td>\n",
              "      <td>2.5 oz/ 74 mL</td>\n",
              "      <td>4.5</td>\n",
              "      <td>23</td>\n",
              "      <td>2900</td>\n",
              "      <td>120.0</td>\n",
              "      <td>120.0</td>\n",
              "      <td>...</td>\n",
              "      <td>Panarea near Sicily is an an island suspended ...</td>\n",
              "      <td>no instructions</td>\n",
              "      <td>unknown</td>\n",
              "      <td>1</td>\n",
              "      <td>0</td>\n",
              "      <td>0</td>\n",
              "      <td>0</td>\n",
              "      <td>fragrance</td>\n",
              "      <td>acqua di parma panarea near sicily is an an is...</td>\n",
              "      <td>acqua di parma panarea near sicily island susp...</td>\n",
              "    </tr>\n",
              "    <tr>\n",
              "      <th>4</th>\n",
              "      <td>2218766</td>\n",
              "      <td>Acqua Di Parma</td>\n",
              "      <td>Fragrance</td>\n",
              "      <td>Colonia Miniature Set</td>\n",
              "      <td>5 x 0.16oz/5mL</td>\n",
              "      <td>3.5</td>\n",
              "      <td>2</td>\n",
              "      <td>943</td>\n",
              "      <td>72.0</td>\n",
              "      <td>80.0</td>\n",
              "      <td>...</td>\n",
              "      <td>The Colonia Miniature Set comes in an iconic A...</td>\n",
              "      <td>Suggested Usage:-Fragrance is intensified by t...</td>\n",
              "      <td>Colonia: Alcohol Denat.- Water- Fragrance- Lim...</td>\n",
              "      <td>1</td>\n",
              "      <td>0</td>\n",
              "      <td>0</td>\n",
              "      <td>0</td>\n",
              "      <td>mini</td>\n",
              "      <td>acqua di parma the colonia miniature set comes...</td>\n",
              "      <td>acqua di parma colonia miniature set comes ico...</td>\n",
              "    </tr>\n",
              "  </tbody>\n",
              "</table>\n",
              "<p>5 rows × 24 columns</p>\n",
              "</div>"
            ],
            "text/plain": [
              "        id           brand   category                            name  \\\n",
              "0  2218774  Acqua Di Parma  Fragrance  Blu Mediterraneo MINIATURE Set   \n",
              "1  2044816  Acqua Di Parma    Cologne                         Colonia   \n",
              "2  1417567  Acqua Di Parma    Perfume                Arancia di Capri   \n",
              "3  1417617  Acqua Di Parma    Perfume                Mirto di Panarea   \n",
              "4  2218766  Acqua Di Parma  Fragrance           Colonia Miniature Set   \n",
              "\n",
              "             size  rating  number_of_reviews  love  price  value_price  ...  \\\n",
              "0  5 x 0.16oz/5mL     4.0                  4  3002   66.0         75.0  ...   \n",
              "1   0.7 oz/ 20 mL     4.5                 76  2700   66.0         66.0  ...   \n",
              "2    5 oz/ 148 mL     4.5                 26  2600  180.0        180.0  ...   \n",
              "3   2.5 oz/ 74 mL     4.5                 23  2900  120.0        120.0  ...   \n",
              "4  5 x 0.16oz/5mL     3.5                  2   943   72.0         80.0  ...   \n",
              "\n",
              "                                             details  \\\n",
              "0  This enchanting set comes in a specially handc...   \n",
              "1  An elegant timeless scent filled with a fresh-...   \n",
              "2  Fragrance Family: Fresh Scent Type: Fresh Citr...   \n",
              "3  Panarea near Sicily is an an island suspended ...   \n",
              "4  The Colonia Miniature Set comes in an iconic A...   \n",
              "\n",
              "                                          how_to_use  \\\n",
              "0  Suggested Usage:-Fragrance is intensified by t...   \n",
              "1                                    no instructions   \n",
              "2                                    no instructions   \n",
              "3                                    no instructions   \n",
              "4  Suggested Usage:-Fragrance is intensified by t...   \n",
              "\n",
              "                                         ingredients online_only exclusive  \\\n",
              "0  Arancia di Capri Eau de Toilette: Alcohol Dena...           1         0   \n",
              "1                                            unknown           1         0   \n",
              "2  Alcohol Denat.- Water- Fragrance- Limonene- Li...           1         0   \n",
              "3                                            unknown           1         0   \n",
              "4  Colonia: Alcohol Denat.- Water- Fragrance- Lim...           1         0   \n",
              "\n",
              "  limited_edition limited_time_offer  new_category  \\\n",
              "0               0                  0          mini   \n",
              "1               0                  0     fragrance   \n",
              "2               0                  0     fragrance   \n",
              "3               0                  0     fragrance   \n",
              "4               0                  0          mini   \n",
              "\n",
              "                              brand_details_category  \\\n",
              "0  acqua di parma this enchanting set comes in a ...   \n",
              "1  acqua di parma an elegant timeless scent fille...   \n",
              "2  acqua di parma fragrance family: fresh scent t...   \n",
              "3  acqua di parma panarea near sicily is an an is...   \n",
              "4  acqua di parma the colonia miniature set comes...   \n",
              "\n",
              "                preprocessing_brand_details_category  \n",
              "0  acqua di parma enchanting set comes specially ...  \n",
              "1  acqua di parma elegant timeless scent filled f...  \n",
              "2  acqua di parma fragrance family fresh scent ty...  \n",
              "3  acqua di parma panarea near sicily island susp...  \n",
              "4  acqua di parma colonia miniature set comes ico...  \n",
              "\n",
              "[5 rows x 24 columns]"
            ]
          },
          "execution_count": 2,
          "metadata": {},
          "output_type": "execute_result"
        }
      ],
      "source": [
        "# Assign data to df\n",
        "df = pd.read_csv('sephora_website_clean.csv')\n",
        "df.head()"
      ]
    },
    {
      "cell_type": "code",
      "execution_count": 3,
      "metadata": {},
      "outputs": [
        {
          "name": "stdout",
          "output_type": "stream",
          "text": [
            "<class 'pandas.core.frame.DataFrame'>\n",
            "RangeIndex: 9168 entries, 0 to 9167\n",
            "Data columns (total 24 columns):\n",
            " #   Column                                Non-Null Count  Dtype  \n",
            "---  ------                                --------------  -----  \n",
            " 0   id                                    9168 non-null   int64  \n",
            " 1   brand                                 9168 non-null   object \n",
            " 2   category                              9168 non-null   object \n",
            " 3   name                                  9168 non-null   object \n",
            " 4   size                                  9168 non-null   object \n",
            " 5   rating                                9168 non-null   float64\n",
            " 6   number_of_reviews                     9168 non-null   int64  \n",
            " 7   love                                  9168 non-null   int64  \n",
            " 8   price                                 9168 non-null   float64\n",
            " 9   value_price                           9168 non-null   float64\n",
            " 10  url                                   9168 non-null   object \n",
            " 11  marketingflags                        9168 non-null   bool   \n",
            " 12  marketingflags_content                9168 non-null   object \n",
            " 13  options                               9168 non-null   object \n",
            " 14  details                               9168 non-null   object \n",
            " 15  how_to_use                            9168 non-null   object \n",
            " 16  ingredients                           9168 non-null   object \n",
            " 17  online_only                           9168 non-null   int64  \n",
            " 18  exclusive                             9168 non-null   int64  \n",
            " 19  limited_edition                       9168 non-null   int64  \n",
            " 20  limited_time_offer                    9168 non-null   int64  \n",
            " 21  new_category                          9168 non-null   object \n",
            " 22  brand_details_category                9168 non-null   object \n",
            " 23  preprocessing_brand_details_category  9168 non-null   object \n",
            "dtypes: bool(1), float64(3), int64(7), object(13)\n",
            "memory usage: 1.6+ MB\n"
          ]
        }
      ],
      "source": [
        "# Data information\n",
        "df.info()"
      ]
    },
    {
      "cell_type": "markdown",
      "metadata": {},
      "source": [
        "Terlihat ada kolom `brand_details_category` yang merupakan gabungan dari 3 kolom, dan `preprocessing_brand_details_category` yang dihasilkan dari proses text preprocessing (kecuali untuk nama brand untuk mempertahankan keutuhan namanya). Akan dilihat perbedaan dari keduanya."
      ]
    },
    {
      "cell_type": "code",
      "execution_count": 4,
      "metadata": {
        "colab": {
          "base_uri": "https://localhost:8080/",
          "height": 423
        },
        "id": "zZQzPcv2_5aL",
        "outputId": "e7184a52-866b-40b3-fd44-50eb404cfa9f"
      },
      "outputs": [
        {
          "data": {
            "text/html": [
              "<div>\n",
              "<style scoped>\n",
              "    .dataframe tbody tr th:only-of-type {\n",
              "        vertical-align: middle;\n",
              "    }\n",
              "\n",
              "    .dataframe tbody tr th {\n",
              "        vertical-align: top;\n",
              "    }\n",
              "\n",
              "    .dataframe thead th {\n",
              "        text-align: right;\n",
              "    }\n",
              "</style>\n",
              "<table border=\"1\" class=\"dataframe\">\n",
              "  <thead>\n",
              "    <tr style=\"text-align: right;\">\n",
              "      <th></th>\n",
              "      <th>brand_details_category</th>\n",
              "      <th>preprocessing_brand_details_category</th>\n",
              "    </tr>\n",
              "  </thead>\n",
              "  <tbody>\n",
              "    <tr>\n",
              "      <th>0</th>\n",
              "      <td>acqua di parma this enchanting set comes in a ...</td>\n",
              "      <td>acqua di parma enchanting set comes specially ...</td>\n",
              "    </tr>\n",
              "    <tr>\n",
              "      <th>1</th>\n",
              "      <td>acqua di parma an elegant timeless scent fille...</td>\n",
              "      <td>acqua di parma elegant timeless scent filled f...</td>\n",
              "    </tr>\n",
              "    <tr>\n",
              "      <th>2</th>\n",
              "      <td>acqua di parma fragrance family: fresh scent t...</td>\n",
              "      <td>acqua di parma fragrance family fresh scent ty...</td>\n",
              "    </tr>\n",
              "    <tr>\n",
              "      <th>3</th>\n",
              "      <td>acqua di parma panarea near sicily is an an is...</td>\n",
              "      <td>acqua di parma panarea near sicily island susp...</td>\n",
              "    </tr>\n",
              "    <tr>\n",
              "      <th>4</th>\n",
              "      <td>acqua di parma the colonia miniature set comes...</td>\n",
              "      <td>acqua di parma colonia miniature set comes ico...</td>\n",
              "    </tr>\n",
              "    <tr>\n",
              "      <th>...</th>\n",
              "      <td>...</td>\n",
              "      <td>...</td>\n",
              "    </tr>\n",
              "    <tr>\n",
              "      <th>9163</th>\n",
              "      <td>sephora collection what it is: a limited-editi...</td>\n",
              "      <td>sephora collection limited edition nurturing h...</td>\n",
              "    </tr>\n",
              "    <tr>\n",
              "      <th>9164</th>\n",
              "      <td>sephora collection what it is: a set of three ...</td>\n",
              "      <td>sephora collection set three bestselling color...</td>\n",
              "    </tr>\n",
              "    <tr>\n",
              "      <th>9165</th>\n",
              "      <td>sephora collection what it is: a weightless co...</td>\n",
              "      <td>sephora collection weightless complexion boost...</td>\n",
              "    </tr>\n",
              "    <tr>\n",
              "      <th>9166</th>\n",
              "      <td>sephora collection what it is:- available in d...</td>\n",
              "      <td>sephora collection available denominations inc...</td>\n",
              "    </tr>\n",
              "    <tr>\n",
              "      <th>9167</th>\n",
              "      <td>sephora collection what it is:\\n- available in...</td>\n",
              "      <td>sephora collection available denominations hap...</td>\n",
              "    </tr>\n",
              "  </tbody>\n",
              "</table>\n",
              "<p>9168 rows × 2 columns</p>\n",
              "</div>"
            ],
            "text/plain": [
              "                                 brand_details_category  \\\n",
              "0     acqua di parma this enchanting set comes in a ...   \n",
              "1     acqua di parma an elegant timeless scent fille...   \n",
              "2     acqua di parma fragrance family: fresh scent t...   \n",
              "3     acqua di parma panarea near sicily is an an is...   \n",
              "4     acqua di parma the colonia miniature set comes...   \n",
              "...                                                 ...   \n",
              "9163  sephora collection what it is: a limited-editi...   \n",
              "9164  sephora collection what it is: a set of three ...   \n",
              "9165  sephora collection what it is: a weightless co...   \n",
              "9166  sephora collection what it is:- available in d...   \n",
              "9167  sephora collection what it is:\\n- available in...   \n",
              "\n",
              "                   preprocessing_brand_details_category  \n",
              "0     acqua di parma enchanting set comes specially ...  \n",
              "1     acqua di parma elegant timeless scent filled f...  \n",
              "2     acqua di parma fragrance family fresh scent ty...  \n",
              "3     acqua di parma panarea near sicily island susp...  \n",
              "4     acqua di parma colonia miniature set comes ico...  \n",
              "...                                                 ...  \n",
              "9163  sephora collection limited edition nurturing h...  \n",
              "9164  sephora collection set three bestselling color...  \n",
              "9165  sephora collection weightless complexion boost...  \n",
              "9166  sephora collection available denominations inc...  \n",
              "9167  sephora collection available denominations hap...  \n",
              "\n",
              "[9168 rows x 2 columns]"
            ]
          },
          "execution_count": 4,
          "metadata": {},
          "output_type": "execute_result"
        }
      ],
      "source": [
        "# Compare columns\n",
        "df[['brand_details_category', 'preprocessing_brand_details_category']]"
      ]
    },
    {
      "cell_type": "markdown",
      "metadata": {},
      "source": [
        "Kolom `preprocessing_brand_details_category` sudah melalui text-preprocessing, ditandai dengan beberapa kata yang hilang seperti: this, an, the, serta tanda baca yang sudah tidak ada (kecuali merupakan bagian dari nama brand).  \n",
        "Kolom ini yang akan dipakai selanjutnya untuk modelling."
      ]
    },
    {
      "cell_type": "markdown",
      "metadata": {
        "id": "xE0HKUYu_DdN"
      },
      "source": [
        "## Modelling: TF-IDF"
      ]
    },
    {
      "cell_type": "markdown",
      "metadata": {},
      "source": [
        "Algoritma yang dipakai untuk modelling adalah **TF-IDF (Term Frequency - Inverse Document Frequency)**.  \n",
        "TF-IDF merupakan salah satu metode word embedding dalam NLP yang dapat mengubah kata atau kalimat menjadi sebuah vektor. Vektor ini nantinya dapat dipakai untuk menghitung cosine similarity dengan vektor lainnya. Dengan kata lain, kita bisa menggunakan TF-IDF untuk membandingkan 2 kalimat dan mencari kedekatannya.\n",
        "\n",
        "Atas basis ini, project kami menggunakan TF-IDF untuk mencari kemiripan antara input user (query) dengan kolom `preprocessing_brand_details_category`, dan menggunakannya untuk mencari produk yang paling relevan dengan permintaan user. Sebagai output, akan ditampilkan produk dan karakteristiknya."
      ]
    },
    {
      "cell_type": "markdown",
      "metadata": {},
      "source": [
        "Pertama-tama, model TF-IDF akan di-train dengan kolom `preprocessing_brand_details_category` untuk keseluruhan produk."
      ]
    },
    {
      "cell_type": "code",
      "execution_count": 5,
      "metadata": {},
      "outputs": [],
      "source": [
        "# Training TF-IDF \n",
        "tfidf = TfidfVectorizer(analyzer = 'word', ngram_range = (1, 2), min_df = 2, stop_words = \"english\")\n",
        "tfidf_df = tfidf.fit(df['preprocessing_brand_details_category'])"
      ]
    },
    {
      "cell_type": "markdown",
      "metadata": {},
      "source": [
        "Misalkan user menggunakan filter untuk mempersempit atau mengerucutkan pencariannya. Dalam contoh ini, user akan hanya mencari produk dengan harga di bawah $100 dengan rating 4 ke atas.  \n",
        "Filter dari user akan disimpan ke dalam data baru, yaitu `df_filter`."
      ]
    },
    {
      "cell_type": "code",
      "execution_count": 6,
      "metadata": {},
      "outputs": [],
      "source": [
        "# User filtering example, make new df\n",
        "df_filter = df[(df['price'] < 100) & (df['rating'] >= 4.0)]"
      ]
    },
    {
      "cell_type": "markdown",
      "metadata": {},
      "source": [
        "Contoh di bawah adalah jika user memasukkan `ornge lime powdry` sebagai input. \n",
        "\n",
        "Sebagai langkah awal, jika filtering user tidak menghasilkan produk apapun, user akan diberi pesan untuk mengganti inputnya.  \n",
        "Namun jika terdapat produk dalam filter tersebut, akan dijalankan model untuk mengeluarkan produk yang relevan dengan input user dan sesuai dengan filter yang sudah di-apply.  \n",
        "\n",
        "Kemudian, query user akan diproses dengan `TextBlob` untuk dikoreksi jika ada typo. Setelah itu, query user dan data hasil filter di-transform dengan TF-IDF yang sudah di-train sebelumnya dengan data lengkap. Kemudian, dicari nilai cosine similarity antara transformed query dengan transformed data filter. Diambil 5 produk dengan nilai cosine similarity tertinggi sebagai rekomendasi. "
      ]
    },
    {
      "cell_type": "code",
      "execution_count": 7,
      "metadata": {},
      "outputs": [
        {
          "data": {
            "text/html": [
              "<div>\n",
              "<style scoped>\n",
              "    .dataframe tbody tr th:only-of-type {\n",
              "        vertical-align: middle;\n",
              "    }\n",
              "\n",
              "    .dataframe tbody tr th {\n",
              "        vertical-align: top;\n",
              "    }\n",
              "\n",
              "    .dataframe thead th {\n",
              "        text-align: right;\n",
              "    }\n",
              "</style>\n",
              "<table border=\"1\" class=\"dataframe\">\n",
              "  <thead>\n",
              "    <tr style=\"text-align: right;\">\n",
              "      <th></th>\n",
              "      <th>brand</th>\n",
              "      <th>category</th>\n",
              "      <th>name</th>\n",
              "      <th>details</th>\n",
              "      <th>similarity</th>\n",
              "      <th>url_image</th>\n",
              "    </tr>\n",
              "  </thead>\n",
              "  <tbody>\n",
              "    <tr>\n",
              "      <th>3486</th>\n",
              "      <td>HERMÈS</td>\n",
              "      <td>Perfume</td>\n",
              "      <td>Eau de citron noir Eau de Cologne</td>\n",
              "      <td>Fragrance Family: FreshScent Type: Fresh Citru...</td>\n",
              "      <td>0.165247</td>\n",
              "      <td>https://perfumediary.com/wp-content/uploads/20...</td>\n",
              "    </tr>\n",
              "    <tr>\n",
              "      <th>472</th>\n",
              "      <td>Atelier Cologne</td>\n",
              "      <td>Fragrance</td>\n",
              "      <td>Perfume Stories Mini Set</td>\n",
              "      <td>Fragrance Description: Perfume has the power t...</td>\n",
              "      <td>0.139638</td>\n",
              "      <td>https://1.bp.blogspot.com/-bMSm2peQPac/YBmDYzJ...</td>\n",
              "    </tr>\n",
              "    <tr>\n",
              "      <th>466</th>\n",
              "      <td>Atelier Cologne</td>\n",
              "      <td>Fragrance</td>\n",
              "      <td>Mini Perfume Wardrobe Set</td>\n",
              "      <td>Fragrance Description: Pacific Lime is a tropi...</td>\n",
              "      <td>0.137868</td>\n",
              "      <td>https://johnlewis.scene7.com/is/image/JohnLewi...</td>\n",
              "    </tr>\n",
              "    <tr>\n",
              "      <th>3165</th>\n",
              "      <td>Givenchy</td>\n",
              "      <td>Lipstick</td>\n",
              "      <td>Le Rouge Deep Velvet Lipstick</td>\n",
              "      <td>What it is: A highly pigmented- powdery matte-...</td>\n",
              "      <td>0.132922</td>\n",
              "      <td>https://media1.popsugar-assets.com/files/thumb...</td>\n",
              "    </tr>\n",
              "    <tr>\n",
              "      <th>6263</th>\n",
              "      <td>Origins</td>\n",
              "      <td>Perfume</td>\n",
              "      <td>Ginger Essence™ Sensuous Skin Scent</td>\n",
              "      <td>What it is:A fiery scent featuring spicy ginge...</td>\n",
              "      <td>0.131492</td>\n",
              "      <td>https://i.pinimg.com/originals/cd/e7/61/cde761...</td>\n",
              "    </tr>\n",
              "    <tr>\n",
              "      <th>506</th>\n",
              "      <td>Atelier Cologne</td>\n",
              "      <td>Lotions &amp; Oils</td>\n",
              "      <td>Orange Sanguine Moisturizing Body Lotion</td>\n",
              "      <td>What it is:\\nA moisturizing body lotion with a...</td>\n",
              "      <td>0.122682</td>\n",
              "      <td>https://image.harrods.com/atelier-cologne-oran...</td>\n",
              "    </tr>\n",
              "    <tr>\n",
              "      <th>3199</th>\n",
              "      <td>Givenchy</td>\n",
              "      <td>Eyebrow</td>\n",
              "      <td>Eyebrow Pencil</td>\n",
              "      <td>What it is: A powdery matte-finish eyebrow pen...</td>\n",
              "      <td>0.119497</td>\n",
              "      <td>https://images.beautyandmakeupmatters.com/2016...</td>\n",
              "    </tr>\n",
              "    <tr>\n",
              "      <th>5832</th>\n",
              "      <td>Narciso Rodriguez</td>\n",
              "      <td>Rollerballs &amp; Travel Size</td>\n",
              "      <td>Pure Musc Eau de Parfum Travel Spray</td>\n",
              "      <td>Fragrance Family: FloralScent Type: Powdery Fl...</td>\n",
              "      <td>0.118460</td>\n",
              "      <td>https://mobilefragrance.com/wp-content/uploads...</td>\n",
              "    </tr>\n",
              "  </tbody>\n",
              "</table>\n",
              "</div>"
            ],
            "text/plain": [
              "                  brand                   category  \\\n",
              "3486             HERMÈS                    Perfume   \n",
              "472     Atelier Cologne                  Fragrance   \n",
              "466     Atelier Cologne                  Fragrance   \n",
              "3165           Givenchy                   Lipstick   \n",
              "6263            Origins                    Perfume   \n",
              "506     Atelier Cologne             Lotions & Oils   \n",
              "3199           Givenchy                    Eyebrow   \n",
              "5832  Narciso Rodriguez  Rollerballs & Travel Size   \n",
              "\n",
              "                                          name  \\\n",
              "3486         Eau de citron noir Eau de Cologne   \n",
              "472                   Perfume Stories Mini Set   \n",
              "466                  Mini Perfume Wardrobe Set   \n",
              "3165             Le Rouge Deep Velvet Lipstick   \n",
              "6263       Ginger Essence™ Sensuous Skin Scent   \n",
              "506   Orange Sanguine Moisturizing Body Lotion   \n",
              "3199                            Eyebrow Pencil   \n",
              "5832      Pure Musc Eau de Parfum Travel Spray   \n",
              "\n",
              "                                                details  similarity  \\\n",
              "3486  Fragrance Family: FreshScent Type: Fresh Citru...    0.165247   \n",
              "472   Fragrance Description: Perfume has the power t...    0.139638   \n",
              "466   Fragrance Description: Pacific Lime is a tropi...    0.137868   \n",
              "3165  What it is: A highly pigmented- powdery matte-...    0.132922   \n",
              "6263  What it is:A fiery scent featuring spicy ginge...    0.131492   \n",
              "506   What it is:\\nA moisturizing body lotion with a...    0.122682   \n",
              "3199  What it is: A powdery matte-finish eyebrow pen...    0.119497   \n",
              "5832  Fragrance Family: FloralScent Type: Powdery Fl...    0.118460   \n",
              "\n",
              "                                              url_image  \n",
              "3486  https://perfumediary.com/wp-content/uploads/20...  \n",
              "472   https://1.bp.blogspot.com/-bMSm2peQPac/YBmDYzJ...  \n",
              "466   https://johnlewis.scene7.com/is/image/JohnLewi...  \n",
              "3165  https://media1.popsugar-assets.com/files/thumb...  \n",
              "6263  https://i.pinimg.com/originals/cd/e7/61/cde761...  \n",
              "506   https://image.harrods.com/atelier-cologne-oran...  \n",
              "3199  https://images.beautyandmakeupmatters.com/2016...  \n",
              "5832  https://mobilefragrance.com/wp-content/uploads...  "
            ]
          },
          "metadata": {},
          "output_type": "display_data"
        }
      ],
      "source": [
        "# Modelling & recommending\n",
        "\n",
        "if len(df_filter) == 0:\n",
        "    print('Sorry, no products matched your request. Please try other keywords or use the filter on the left of this page.')\n",
        "else:\n",
        "    # Sample query\n",
        "    query = 'ornge lime powdry'\n",
        "    blob = TextBlob(query)\n",
        "\n",
        "    # Corrected query to string\n",
        "    corrected_query = str(blob.correct())\n",
        "    \n",
        "    # Vectorize query\n",
        "    corrected_query_vec = tfidf_df.transform([corrected_query])\n",
        "\n",
        "    # TF-IDF transform filtered data\n",
        "    tfidf_df_filter = tfidf_df.transform(df_filter['preprocessing_brand_details_category'])\n",
        "\n",
        "    # Calculate cosine similarity\n",
        "    recommendation = cosine_similarity(tfidf_df_filter, corrected_query_vec).reshape((-1, ))\n",
        "    df_filter['similarity'] = recommendation\n",
        "\n",
        "    # Save result indices \n",
        "    recommendation_index = []\n",
        "    for i in recommendation.argsort()[-8:][::-1]:\n",
        "        if recommendation[i] >= 0.1:\n",
        "            recommendation_index.append(i)\n",
        "        else:\n",
        "            pass\n",
        "    if len(recommendation_index) == 0:\n",
        "        print('Sorry, no products matched your request. Please try other keywords or use the filter on the left of this page.')\n",
        "    else:\n",
        "        # Show recommended products\n",
        "        df_recommendation = df_filter.iloc[recommendation_index]\n",
        "        df_recommendation['url_image'] = 'https://st4.depositphotos.com/14953852/24787/v/450/depositphotos_247872612-stock-illustration-no-image-available-icon-vector.jpg'\n",
        "        for i in range(len(df_recommendation)):\n",
        "            image_query = df_recommendation.iloc[i, 1] + df_recommendation.iloc[i, 3]\n",
        "            image_urls = bing_image_urls(image_query, limit = 3)\n",
        "            image_url = ''\n",
        "            for j in image_urls:\n",
        "                if len(j) > 0:\n",
        "                    image_url = j\n",
        "                    break\n",
        "                else:\n",
        "                    pass\n",
        "            df_recommendation.iloc[i, 25] = image_url\n",
        "        display(df_recommendation[['brand', 'category', 'name', 'details', 'similarity', 'url_image']])"
      ]
    },
    {
      "cell_type": "markdown",
      "metadata": {},
      "source": [
        "Walaupun similarity terlihat kecil, hasil yang dikeluarkan oleh model masih relevan dengan query. Ini membuat kami tetap yakin bahwa model masih bekerja dengan baik untuk merekomendasikan produk yang sesuai dengan keinginan user.\n",
        "\n",
        "Ditambahkan kolom `url_image` untuk keperluan deployment model nantinya. Berikut adalah contoh gambar dari hasil fetching URL."
      ]
    },
    {
      "cell_type": "code",
      "execution_count": 8,
      "metadata": {},
      "outputs": [
        {
          "data": {
            "image/jpeg": "[encoded data removed]",
            "image/png": "[encoded data removed]",
            "text/plain": [
              "<PIL.Image.Image image mode=RGB size=200x200>"
            ]
          },
          "execution_count": 8,
          "metadata": {},
          "output_type": "execute_result"
        }
      ],
      "source": [
        "# Display image from URL\n",
        "df_recommendation.reset_index(inplace = True)\n",
        "url = df_recommendation['url_image'][0]\n",
        "r = requests.get(url)\n",
        "pilImage = Image.open(BytesIO(r.content))\n",
        "pilImage.resize((200, 200))"
      ]
    },
    {
      "cell_type": "markdown",
      "metadata": {},
      "source": [
        "## Model saving"
      ]
    },
    {
      "cell_type": "markdown",
      "metadata": {},
      "source": [
        "Akan disimpan TF-IDF vectorizer yang sudah di-train dengan katalog produk di dataset."
      ]
    },
    {
      "cell_type": "code",
      "execution_count": 9,
      "metadata": {},
      "outputs": [],
      "source": [
        "# Saving\n",
        "with open('pickr.pkl', 'wb') as file_1: \n",
        "  pickle.dump(tfidf_df, file_1)"
      ]
    },
    {
      "cell_type": "markdown",
      "metadata": {},
      "source": [
        "## Conclusion"
      ]
    },
    {
      "cell_type": "markdown",
      "metadata": {},
      "source": [
        "Dari proses modelling, ada beberapa poin yang perlu di-highlight:\n",
        "- TF-IDF dan perhitungan cosine similarity berjalan dengan baik tanpa error\n",
        "- Nilai cosine similarity cenderung kecil, walaupun produk yang dihasilkan masih relevan jika dinilai secara subjektif\n",
        "- Tidak semua typo dikoreksi dengan benar, seperi citris yang seharusnya citrus, malahan menjadi cities\n",
        "- URL yang di-fetch dengan Bing API terkadang tidak relevan (contoh: seharusnya gambar produk, tetapi ada gambar manusia) dan berubah-ubah tiap program dijalankan\n"
      ]
    },
    {
      "cell_type": "markdown",
      "metadata": {},
      "source": [
        "Saran untuk pengembangan atau perbaikan project ini ke depannya:\n",
        "- Menambah lebih banyak produk ke katalog produk, untuk menyediakan lebih banyak opsi rekomendasi pada user\n",
        "- Menggunakan metode lain untuk handling typo, atau menambahkan kata-kata tertentu ke dalam library kata yang sering typo (dalam kasus ini yang berkaitan dengan ranah beauty) \n",
        "- Menggunakan API search image yang lebih baik, agar hasil gambar yang dikeluarkan selalu relevan dengan produk. Jika tidak mengambil link gambar produk, dapat dilakukan scraping terlebih dahulu dan memasukkan setiap gambar produk ke masing-masing row data\n",
        "- Mengambil kata yang penting saja dari kolom `preprocessing_brand_details_category`, dengan harapan nilai cosine similarity dengan user input bisa lebih tinggi \n",
        "- Mengaplikasikan semantics search di modelling, misalkan dengan menggunakan Word2Vec, Doc2Vec, LSI, dan lain-lain. Ini diharapkan dapat menghasilkan searching yang lebih baik dibandingkan dengan TF-IDF\n"
      ]
    }
  ],
  "metadata": {
    "colab": {
      "provenance": []
    },
    "kernelspec": {
      "display_name": "Python 3",
      "name": "python3"
    },
    "language_info": {
      "codemirror_mode": {
        "name": "ipython",
        "version": 3
      },
      "file_extension": ".py",
      "mimetype": "text/x-python",
      "name": "python",
      "nbconvert_exporter": "python",
      "pygments_lexer": "ipython3",
      "version": "3.9.18"
    }
  },
  "nbformat": 4,
  "nbformat_minor": 0
}
